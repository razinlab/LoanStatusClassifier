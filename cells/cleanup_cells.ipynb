{
  "nbformat": 4,
  "nbformat_minor": 0,
  "metadata": {
    "colab": {
      "provenance": [],
      "toc_visible": true,
      "gpuType": "T4"
    },
    "kernelspec": {
      "name": "python3",
      "display_name": "Python 3"
    },
    "language_info": {
      "name": "python"
    },
    "accelerator": "GPU"
  },
  "cells": [
    {
      "cell_type": "markdown",
      "source": [
        "#End-to-End Loan Eligibility Classification\n",
        "\n",
        "The goal of this project will be to determine loan eligiblity based on a number of features. The intention is to go through all necessary steps of a machine learning classification problem from start to finish."
      ],
      "metadata": {
        "id": "H_Dp5YwnOkJX"
      }
    },
    {
      "cell_type": "markdown",
      "source": [
        "# Data Cleanup"
      ],
      "metadata": {
        "id": "W3tqwYaamLHI"
      }
    },
    {
      "cell_type": "markdown",
      "source": [
        "We have gotten some insights on how to move forward from our exploratory data analysis, now let's make a pipeine to automatically transform each columns. We can manally remove the outliers mentioned previously as there are only a few:"
      ],
      "metadata": {
        "id": "yIUTJkJiDXF2"
      }
    },
    {
      "cell_type": "code",
      "source": [
        "loan_data = loan_data[loan_data['person_age']<100]\n",
        "loan_data = loan_data[loan_data['person_emp_exp']<=50]"
      ],
      "metadata": {
        "id": "_dCKGKILmOPq"
      },
      "execution_count": null,
      "outputs": []
    },
    {
      "cell_type": "code",
      "source": [
        "loan_data.info()"
      ],
      "metadata": {
        "colab": {
          "base_uri": "https://localhost:8080/"
        },
        "id": "-36umeFapQYy",
        "outputId": "e9b42265-0b1a-4b01-a1a4-92715dc62112"
      },
      "execution_count": null,
      "outputs": [
        {
          "output_type": "stream",
          "name": "stdout",
          "text": [
            "<class 'pandas.core.frame.DataFrame'>\n",
            "Index: 35992 entries, 25180 to 15795\n",
            "Data columns (total 14 columns):\n",
            " #   Column                          Non-Null Count  Dtype  \n",
            "---  ------                          --------------  -----  \n",
            " 0   person_age                      35992 non-null  float64\n",
            " 1   person_gender                   35992 non-null  object \n",
            " 2   person_education                35992 non-null  object \n",
            " 3   person_income                   35992 non-null  float64\n",
            " 4   person_emp_exp                  35992 non-null  int64  \n",
            " 5   person_home_ownership           35992 non-null  object \n",
            " 6   loan_amnt                       35992 non-null  float64\n",
            " 7   loan_intent                     35992 non-null  object \n",
            " 8   loan_int_rate                   35992 non-null  float64\n",
            " 9   loan_percent_income             35992 non-null  float64\n",
            " 10  cb_person_cred_hist_length      35992 non-null  float64\n",
            " 11  credit_score                    35992 non-null  int64  \n",
            " 12  previous_loan_defaults_on_file  35992 non-null  object \n",
            " 13  loan_status                     35992 non-null  int64  \n",
            "dtypes: float64(6), int64(3), object(5)\n",
            "memory usage: 4.1+ MB\n"
          ]
        }
      ]
    },
    {
      "cell_type": "code",
      "source": [
        "loan_data = train_set.drop('loan_status', axis=1)\n",
        "loan_labels = train_set['loan_status'].copy()"
      ],
      "metadata": {
        "id": "LrzjeQJRp9jL"
      },
      "execution_count": null,
      "outputs": []
    },
    {
      "cell_type": "code",
      "source": [
        "from sklearn.pipeline import make_pipeline, Pipeline\n",
        "from sklearn.impute import SimpleImputer\n",
        "from sklearn.preprocessing import StandardScaler, OneHotEncoder, FunctionTransformer, OrdinalEncoder, LabelBinarizer, MinMaxScaler\n",
        "from sklearn.compose import ColumnTransformer, make_column_selector\n",
        "\n",
        "def log_transform(x):\n",
        "    return np.log(x + 1e-10)\n",
        "\n",
        "log_transformer = make_pipeline(\n",
        "    SimpleImputer(strategy='most_frequent'),\n",
        "    FunctionTransformer(log_transform, feature_names_out='one-to-one'),\n",
        "    StandardScaler()\n",
        ")\n",
        "\n",
        "category_transformer = make_pipeline(\n",
        "    SimpleImputer(strategy='most_frequent'),\n",
        "    OneHotEncoder(handle_unknown='ignore')\n",
        ")\n",
        "\n",
        "numeric_transformer = make_pipeline(\n",
        "    SimpleImputer(strategy='most_frequent'),\n",
        "    StandardScaler()\n",
        ")\n",
        "\n",
        "education_order = [['High School', 'Associate', 'Bachelor', 'Master',\n",
        "                    'Doctorate']]\n",
        "\n",
        "education_transformer = make_pipeline(\n",
        "    SimpleImputer(strategy='most_frequent'),\n",
        "    OrdinalEncoder(categories=education_order)\n",
        ")\n",
        "\n",
        "binary_transformer = make_pipeline(\n",
        "    SimpleImputer(strategy='most_frequent'),\n",
        "    OneHotEncoder(handle_unknown='ignore', drop='if_binary'),\n",
        ")\n",
        "\n",
        "preprocessing = ColumnTransformer([\n",
        "    ('log', log_transformer, ['person_age', 'person_income', 'person_emp_exp',\n",
        "                              'loan_amnt','loan_int_rate',\n",
        "                              'loan_percent_income', 'loan_int_rate',\n",
        "                              'cb_person_cred_hist_length']),\n",
        "    ('cat', category_transformer, ['person_home_ownership','loan_intent']),\n",
        "    ('edu', education_transformer, ['person_education']),\n",
        "    ('bin', binary_transformer, ['person_gender',\n",
        "                                 'previous_loan_defaults_on_file'])],\n",
        "    remainder=numeric_transformer, force_int_remainder_cols=False)"
      ],
      "metadata": {
        "id": "ZUAe6o7dr7Ck"
      },
      "execution_count": null,
      "outputs": []
    }
  ]
}