{
  "nbformat": 4,
  "nbformat_minor": 0,
  "metadata": {
    "colab": {
      "provenance": [],
      "toc_visible": true,
      "gpuType": "T4"
    },
    "kernelspec": {
      "name": "python3",
      "display_name": "Python 3"
    },
    "language_info": {
      "name": "python"
    },
    "accelerator": "GPU"
  },
  "cells": [
    {
      "cell_type": "markdown",
      "source": [
        "#End-to-End Loan Eligibility Classification\n",
        "\n",
        "The goal of this project will be to determine loan eligiblity based on a number of features. The intention is to go through all necessary steps of a machine learning classification problem from start to finish."
      ],
      "metadata": {
        "id": "H_Dp5YwnOkJX"
      }
    },
    {
      "cell_type": "markdown",
      "source": [
        "# Train-Test Split"
      ],
      "metadata": {
        "id": "Rv_YG3culx4A"
      }
    },
    {
      "cell_type": "markdown",
      "source": [
        "Let's split the data early so that we are only working with the training data from here on out:"
      ],
      "metadata": {
        "id": "ujsGv9kyDLWr"
      }
    },
    {
      "cell_type": "code",
      "source": [
        "from sklearn.model_selection import train_test_split\n",
        "\n",
        "train_set, test_set = train_test_split(original_data, test_size=0.2,\n",
        "                                       random_state=42)"
      ],
      "metadata": {
        "id": "JMDyvjsslrZu"
      },
      "execution_count": null,
      "outputs": []
    },
    {
      "cell_type": "code",
      "source": [
        "loan_data = train_set.copy()"
      ],
      "metadata": {
        "id": "A37M8vjamIkG"
      },
      "execution_count": null,
      "outputs": []
    }
  ]
}